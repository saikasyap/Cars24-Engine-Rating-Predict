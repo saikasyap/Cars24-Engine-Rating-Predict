{
 "cells": [
  {
   "cell_type": "code",
   "execution_count": 1,
   "metadata": {},
   "outputs": [],
   "source": [
    "import pandas as pd \n",
    "  \n",
    "# intialise data of lists. \n",
    "cust_data = {'cust_id':['A123', 'A456', 'A789'], \n",
    "             'ticket_id':['9342312', '6542312', '7542312'],\n",
    "             'first_cust_port':['Delhi', 'Delhi', 'Delhi'],\n",
    "             'last_cust_port' : ['Mumbai', 'Mumbai', 'Mumbai'],\n",
    "             'cust_start':[815, 830, 845],\n",
    "             'cust_end':[1730, 1015, 1330]} \n",
    "  \n",
    "# Create DataFrame \n",
    "df1 = pd.DataFrame(cust_data)"
   ]
  },
  {
   "cell_type": "code",
   "execution_count": 2,
   "metadata": {},
   "outputs": [],
   "source": [
    "flight_data = {'flight_no':['B99', 'B89', 'B69','B79', 'B59', 'B49', 'B39'], \n",
    "             'date':['04042014', '04042014', '04042014','04042014', '04042014', '04042014', '04042014'],\n",
    "             'orig_port':['Delhi', 'Delhi', 'Jaipur', 'Delhi', 'Agra', 'Surat', 'Pune' ],\n",
    "             'dest_port' : ['Mumbai', 'Jaipur', 'Mumbai','Agra', 'Surat', 'Pune' ,'Mumbai'],\n",
    "             'flight_start':[830, 845, 1130, 815, 1230, 1445, 1615],\n",
    "             'flight_end':[1015, 1045, 1330, 1130, 1430, 1530,1730]} \n",
    "  \n",
    "# Create DataFrame \n",
    "df2 = pd.DataFrame(flight_data)"
   ]
  },
  {
   "cell_type": "code",
   "execution_count": 3,
   "metadata": {},
   "outputs": [
    {
     "data": {
      "text/html": [
       "<div>\n",
       "<style scoped>\n",
       "    .dataframe tbody tr th:only-of-type {\n",
       "        vertical-align: middle;\n",
       "    }\n",
       "\n",
       "    .dataframe tbody tr th {\n",
       "        vertical-align: top;\n",
       "    }\n",
       "\n",
       "    .dataframe thead th {\n",
       "        text-align: right;\n",
       "    }\n",
       "</style>\n",
       "<table border=\"1\" class=\"dataframe\">\n",
       "  <thead>\n",
       "    <tr style=\"text-align: right;\">\n",
       "      <th></th>\n",
       "      <th>cust_id</th>\n",
       "      <th>ticket_id</th>\n",
       "      <th>first_cust_port</th>\n",
       "      <th>last_cust_port</th>\n",
       "      <th>cust_start</th>\n",
       "      <th>cust_end</th>\n",
       "    </tr>\n",
       "  </thead>\n",
       "  <tbody>\n",
       "    <tr>\n",
       "      <th>0</th>\n",
       "      <td>A123</td>\n",
       "      <td>9342312</td>\n",
       "      <td>Delhi</td>\n",
       "      <td>Mumbai</td>\n",
       "      <td>815</td>\n",
       "      <td>1730</td>\n",
       "    </tr>\n",
       "    <tr>\n",
       "      <th>1</th>\n",
       "      <td>A456</td>\n",
       "      <td>6542312</td>\n",
       "      <td>Delhi</td>\n",
       "      <td>Mumbai</td>\n",
       "      <td>830</td>\n",
       "      <td>1015</td>\n",
       "    </tr>\n",
       "    <tr>\n",
       "      <th>2</th>\n",
       "      <td>A789</td>\n",
       "      <td>7542312</td>\n",
       "      <td>Delhi</td>\n",
       "      <td>Mumbai</td>\n",
       "      <td>845</td>\n",
       "      <td>1330</td>\n",
       "    </tr>\n",
       "  </tbody>\n",
       "</table>\n",
       "</div>"
      ],
      "text/plain": [
       "  cust_id ticket_id first_cust_port last_cust_port  cust_start  cust_end\n",
       "0    A123   9342312           Delhi         Mumbai         815      1730\n",
       "1    A456   6542312           Delhi         Mumbai         830      1015\n",
       "2    A789   7542312           Delhi         Mumbai         845      1330"
      ]
     },
     "execution_count": 3,
     "metadata": {},
     "output_type": "execute_result"
    }
   ],
   "source": [
    "df1.head()"
   ]
  },
  {
   "cell_type": "code",
   "execution_count": 4,
   "metadata": {},
   "outputs": [
    {
     "data": {
      "text/html": [
       "<div>\n",
       "<style scoped>\n",
       "    .dataframe tbody tr th:only-of-type {\n",
       "        vertical-align: middle;\n",
       "    }\n",
       "\n",
       "    .dataframe tbody tr th {\n",
       "        vertical-align: top;\n",
       "    }\n",
       "\n",
       "    .dataframe thead th {\n",
       "        text-align: right;\n",
       "    }\n",
       "</style>\n",
       "<table border=\"1\" class=\"dataframe\">\n",
       "  <thead>\n",
       "    <tr style=\"text-align: right;\">\n",
       "      <th></th>\n",
       "      <th>flight_no</th>\n",
       "      <th>date</th>\n",
       "      <th>orig_port</th>\n",
       "      <th>dest_port</th>\n",
       "      <th>flight_start</th>\n",
       "      <th>flight_end</th>\n",
       "    </tr>\n",
       "  </thead>\n",
       "  <tbody>\n",
       "    <tr>\n",
       "      <th>0</th>\n",
       "      <td>B99</td>\n",
       "      <td>04042014</td>\n",
       "      <td>Delhi</td>\n",
       "      <td>Mumbai</td>\n",
       "      <td>830</td>\n",
       "      <td>1015</td>\n",
       "    </tr>\n",
       "    <tr>\n",
       "      <th>1</th>\n",
       "      <td>B89</td>\n",
       "      <td>04042014</td>\n",
       "      <td>Delhi</td>\n",
       "      <td>Jaipur</td>\n",
       "      <td>845</td>\n",
       "      <td>1045</td>\n",
       "    </tr>\n",
       "    <tr>\n",
       "      <th>2</th>\n",
       "      <td>B69</td>\n",
       "      <td>04042014</td>\n",
       "      <td>Jaipur</td>\n",
       "      <td>Mumbai</td>\n",
       "      <td>1130</td>\n",
       "      <td>1330</td>\n",
       "    </tr>\n",
       "    <tr>\n",
       "      <th>3</th>\n",
       "      <td>B79</td>\n",
       "      <td>04042014</td>\n",
       "      <td>Delhi</td>\n",
       "      <td>Agra</td>\n",
       "      <td>815</td>\n",
       "      <td>1130</td>\n",
       "    </tr>\n",
       "    <tr>\n",
       "      <th>4</th>\n",
       "      <td>B59</td>\n",
       "      <td>04042014</td>\n",
       "      <td>Agra</td>\n",
       "      <td>Surat</td>\n",
       "      <td>1230</td>\n",
       "      <td>1430</td>\n",
       "    </tr>\n",
       "    <tr>\n",
       "      <th>5</th>\n",
       "      <td>B49</td>\n",
       "      <td>04042014</td>\n",
       "      <td>Surat</td>\n",
       "      <td>Pune</td>\n",
       "      <td>1445</td>\n",
       "      <td>1530</td>\n",
       "    </tr>\n",
       "    <tr>\n",
       "      <th>6</th>\n",
       "      <td>B39</td>\n",
       "      <td>04042014</td>\n",
       "      <td>Pune</td>\n",
       "      <td>Mumbai</td>\n",
       "      <td>1615</td>\n",
       "      <td>1730</td>\n",
       "    </tr>\n",
       "  </tbody>\n",
       "</table>\n",
       "</div>"
      ],
      "text/plain": [
       "  flight_no      date orig_port dest_port  flight_start  flight_end\n",
       "0       B99  04042014     Delhi    Mumbai           830        1015\n",
       "1       B89  04042014     Delhi    Jaipur           845        1045\n",
       "2       B69  04042014    Jaipur    Mumbai          1130        1330\n",
       "3       B79  04042014     Delhi      Agra           815        1130\n",
       "4       B59  04042014      Agra     Surat          1230        1430\n",
       "5       B49  04042014     Surat      Pune          1445        1530\n",
       "6       B39  04042014      Pune    Mumbai          1615        1730"
      ]
     },
     "execution_count": 4,
     "metadata": {},
     "output_type": "execute_result"
    }
   ],
   "source": [
    "df2.head(7)"
   ]
  },
  {
   "cell_type": "code",
   "execution_count": 5,
   "metadata": {},
   "outputs": [],
   "source": [
    "flight_row1, flight_row2, flightseq = [],[],[]\n",
    "for i in range(len(df1)) : \n",
    "    start = df1.loc[i, \"cust_start\"]\n",
    "    end = df1.loc[i, \"cust_end\"]\n",
    "   # print(start)\n",
    "    flight_row1.append(df2[df2['flight_start'] == start].index.values[0])\n",
    "    flight_row2.append(df2[df2['flight_end'] == end].index.values[0])\n",
    "for j in range(len(df1)):\n",
    "    flightseq.append(df2['flight_no'].loc[flight_row1[j]:flight_row2[j]].tolist())\n",
    "\n",
    "df1['flight_seq'] = flightseq # Combining with customer data table\n",
    "   \n",
    "#new_df= df1.groupby('cust_id')"
   ]
  },
  {
   "cell_type": "code",
   "execution_count": 6,
   "metadata": {},
   "outputs": [
    {
     "name": "stdout",
     "output_type": "stream",
     "text": [
      "  cust_id ticket_id first_cust_port last_cust_port  cust_start  cust_end  \\\n",
      "0    A123   9342312           Delhi         Mumbai         815      1730   \n",
      "1    A456   6542312           Delhi         Mumbai         830      1015   \n",
      "2    A789   7542312           Delhi         Mumbai         845      1330   \n",
      "\n",
      "             flight_seq  \n",
      "0  [B79, B59, B49, B39]  \n",
      "1                 [B99]  \n",
      "2            [B89, B69]  \n"
     ]
    }
   ],
   "source": [
    "print(df1)"
   ]
  },
  {
   "cell_type": "code",
   "execution_count": null,
   "metadata": {},
   "outputs": [],
   "source": []
  }
 ],
 "metadata": {
  "kernelspec": {
   "display_name": "Python 3",
   "language": "python",
   "name": "python3"
  },
  "language_info": {
   "codemirror_mode": {
    "name": "ipython",
    "version": 3
   },
   "file_extension": ".py",
   "mimetype": "text/x-python",
   "name": "python",
   "nbconvert_exporter": "python",
   "pygments_lexer": "ipython3",
   "version": "3.7.6"
  }
 },
 "nbformat": 4,
 "nbformat_minor": 4
}
